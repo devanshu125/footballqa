{
 "cells": [
  {
   "cell_type": "code",
   "execution_count": 1,
   "id": "b02eff86",
   "metadata": {},
   "outputs": [],
   "source": [
    "import duckdb"
   ]
  },
  {
   "cell_type": "code",
   "execution_count": 2,
   "id": "9e9bda82",
   "metadata": {},
   "outputs": [],
   "source": [
    "connector = duckdb.connect(\"../db_folder/footballqa.duckdb\")"
   ]
  },
  {
   "cell_type": "code",
   "execution_count": 7,
   "id": "b378c57f",
   "metadata": {},
   "outputs": [],
   "source": [
    "req_query = \"\"\"\n",
    "    SELECT \n",
    "    player_name, \n",
    "    team_captain, \n",
    "    position\n",
    "    FROM \n",
    "    game_lineups_cleaned\n",
    "    WHERE \n",
    "    team_captain = 1  -- Assuming 1 means 'Yes' or 'True' for being a team captain\n",
    "    AND position = 'Left-Back';  -- Exact match for position\n",
    "\"\"\""
   ]
  },
  {
   "cell_type": "code",
   "execution_count": 10,
   "id": "8699be7f",
   "metadata": {},
   "outputs": [],
   "source": [
    "result = connector.execute(query=req_query).fetch_df()"
   ]
  },
  {
   "cell_type": "code",
   "execution_count": 12,
   "id": "e12bb662",
   "metadata": {},
   "outputs": [
    {
     "data": {
      "text/html": [
       "<div>\n",
       "<style scoped>\n",
       "    .dataframe tbody tr th:only-of-type {\n",
       "        vertical-align: middle;\n",
       "    }\n",
       "\n",
       "    .dataframe tbody tr th {\n",
       "        vertical-align: top;\n",
       "    }\n",
       "\n",
       "    .dataframe thead th {\n",
       "        text-align: right;\n",
       "    }\n",
       "</style>\n",
       "<table border=\"1\" class=\"dataframe\">\n",
       "  <thead>\n",
       "    <tr style=\"text-align: right;\">\n",
       "      <th></th>\n",
       "      <th>player_name</th>\n",
       "      <th>team_captain</th>\n",
       "      <th>position</th>\n",
       "    </tr>\n",
       "  </thead>\n",
       "  <tbody>\n",
       "    <tr>\n",
       "      <th>0</th>\n",
       "      <td>Nick Viergever</td>\n",
       "      <td>1</td>\n",
       "      <td>Left-Back</td>\n",
       "    </tr>\n",
       "    <tr>\n",
       "      <th>1</th>\n",
       "      <td>Filip Daems</td>\n",
       "      <td>1</td>\n",
       "      <td>Left-Back</td>\n",
       "    </tr>\n",
       "    <tr>\n",
       "      <th>2</th>\n",
       "      <td>Filip Daems</td>\n",
       "      <td>1</td>\n",
       "      <td>Left-Back</td>\n",
       "    </tr>\n",
       "    <tr>\n",
       "      <th>3</th>\n",
       "      <td>Filip Daems</td>\n",
       "      <td>1</td>\n",
       "      <td>Left-Back</td>\n",
       "    </tr>\n",
       "    <tr>\n",
       "      <th>4</th>\n",
       "      <td>Filip Daems</td>\n",
       "      <td>1</td>\n",
       "      <td>Left-Back</td>\n",
       "    </tr>\n",
       "    <tr>\n",
       "      <th>5</th>\n",
       "      <td>Filip Daems</td>\n",
       "      <td>1</td>\n",
       "      <td>Left-Back</td>\n",
       "    </tr>\n",
       "    <tr>\n",
       "      <th>6</th>\n",
       "      <td>Filip Daems</td>\n",
       "      <td>1</td>\n",
       "      <td>Left-Back</td>\n",
       "    </tr>\n",
       "    <tr>\n",
       "      <th>7</th>\n",
       "      <td>Marcell Jansen</td>\n",
       "      <td>1</td>\n",
       "      <td>Left-Back</td>\n",
       "    </tr>\n",
       "    <tr>\n",
       "      <th>8</th>\n",
       "      <td>Marcell Jansen</td>\n",
       "      <td>1</td>\n",
       "      <td>Left-Back</td>\n",
       "    </tr>\n",
       "    <tr>\n",
       "      <th>9</th>\n",
       "      <td>Andreas Beck</td>\n",
       "      <td>1</td>\n",
       "      <td>Left-Back</td>\n",
       "    </tr>\n",
       "  </tbody>\n",
       "</table>\n",
       "</div>"
      ],
      "text/plain": [
       "      player_name  team_captain   position\n",
       "0  Nick Viergever             1  Left-Back\n",
       "1     Filip Daems             1  Left-Back\n",
       "2     Filip Daems             1  Left-Back\n",
       "3     Filip Daems             1  Left-Back\n",
       "4     Filip Daems             1  Left-Back\n",
       "5     Filip Daems             1  Left-Back\n",
       "6     Filip Daems             1  Left-Back\n",
       "7  Marcell Jansen             1  Left-Back\n",
       "8  Marcell Jansen             1  Left-Back\n",
       "9    Andreas Beck             1  Left-Back"
      ]
     },
     "execution_count": 12,
     "metadata": {},
     "output_type": "execute_result"
    }
   ],
   "source": [
    "result.head(10)"
   ]
  },
  {
   "cell_type": "code",
   "execution_count": 13,
   "id": "90c7d7c8",
   "metadata": {},
   "outputs": [],
   "source": [
    "req_query_most_app = \"\"\"\n",
    "SELECT \n",
    "  player_name, \n",
    "  COUNT(*) AS TotalAppearances\n",
    "FROM \n",
    "  game_lineups_cleaned\n",
    "WHERE \n",
    "  team_captain = 1\n",
    "  AND position = 'Left-Back'\n",
    "GROUP BY \n",
    "  player_name\n",
    "ORDER BY \n",
    "  TotalAppearances DESC\n",
    "LIMIT 5;\n",
    "\n",
    "\"\"\"\n",
    "\n",
    "result_most_app = connector.execute(req_query_most_app).fetch_df()"
   ]
  },
  {
   "cell_type": "code",
   "execution_count": 14,
   "id": "411b3c71",
   "metadata": {},
   "outputs": [
    {
     "data": {
      "text/html": [
       "<div>\n",
       "<style scoped>\n",
       "    .dataframe tbody tr th:only-of-type {\n",
       "        vertical-align: middle;\n",
       "    }\n",
       "\n",
       "    .dataframe tbody tr th {\n",
       "        vertical-align: top;\n",
       "    }\n",
       "\n",
       "    .dataframe thead th {\n",
       "        text-align: right;\n",
       "    }\n",
       "</style>\n",
       "<table border=\"1\" class=\"dataframe\">\n",
       "  <thead>\n",
       "    <tr style=\"text-align: right;\">\n",
       "      <th></th>\n",
       "      <th>player_name</th>\n",
       "      <th>TotalAppearances</th>\n",
       "    </tr>\n",
       "  </thead>\n",
       "  <tbody>\n",
       "    <tr>\n",
       "      <th>0</th>\n",
       "      <td>Aaron Meijers</td>\n",
       "      <td>122</td>\n",
       "    </tr>\n",
       "    <tr>\n",
       "      <th>1</th>\n",
       "      <td>Christian Günter</td>\n",
       "      <td>95</td>\n",
       "    </tr>\n",
       "    <tr>\n",
       "      <th>2</th>\n",
       "      <td>José Gayà</td>\n",
       "      <td>93</td>\n",
       "    </tr>\n",
       "    <tr>\n",
       "      <th>3</th>\n",
       "      <td>Cristiano Biraghi</td>\n",
       "      <td>83</td>\n",
       "    </tr>\n",
       "    <tr>\n",
       "      <th>4</th>\n",
       "      <td>Ziya Erdal</td>\n",
       "      <td>81</td>\n",
       "    </tr>\n",
       "  </tbody>\n",
       "</table>\n",
       "</div>"
      ],
      "text/plain": [
       "         player_name  TotalAppearances\n",
       "0      Aaron Meijers               122\n",
       "1   Christian Günter                95\n",
       "2          José Gayà                93\n",
       "3  Cristiano Biraghi                83\n",
       "4         Ziya Erdal                81"
      ]
     },
     "execution_count": 14,
     "metadata": {},
     "output_type": "execute_result"
    }
   ],
   "source": [
    "result_most_app"
   ]
  },
  {
   "cell_type": "code",
   "execution_count": null,
   "id": "fd74a628",
   "metadata": {},
   "outputs": [],
   "source": []
  }
 ],
 "metadata": {
  "kernelspec": {
   "display_name": "football_env",
   "language": "python",
   "name": "python3"
  },
  "language_info": {
   "codemirror_mode": {
    "name": "ipython",
    "version": 3
   },
   "file_extension": ".py",
   "mimetype": "text/x-python",
   "name": "python",
   "nbconvert_exporter": "python",
   "pygments_lexer": "ipython3",
   "version": "3.11.11"
  }
 },
 "nbformat": 4,
 "nbformat_minor": 5
}
