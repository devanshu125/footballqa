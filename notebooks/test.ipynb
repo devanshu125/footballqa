{
 "cells": [
  {
   "cell_type": "code",
   "execution_count": null,
   "id": "b02eff86",
   "metadata": {},
   "outputs": [],
   "source": [
    "import duckdb"
   ]
  },
  {
   "cell_type": "code",
   "execution_count": null,
   "id": "9e9bda82",
   "metadata": {},
   "outputs": [],
   "source": [
    "connector = duckdb.connect(\"../db_folder/footballqa.duckdb\")"
   ]
  },
  {
   "cell_type": "code",
   "execution_count": null,
   "id": "b378c57f",
   "metadata": {},
   "outputs": [],
   "source": [
    "req_query = \"\"\"\n",
    "    SELECT \n",
    "    player_name, \n",
    "    team_captain, \n",
    "    position\n",
    "    FROM \n",
    "    game_lineups_cleaned\n",
    "    WHERE \n",
    "    team_captain = 1  -- Assuming 1 means 'Yes' or 'True' for being a team captain\n",
    "    AND position = 'Left-Back';  -- Exact match for position\n",
    "\"\"\""
   ]
  },
  {
   "cell_type": "code",
   "execution_count": null,
   "id": "8699be7f",
   "metadata": {},
   "outputs": [],
   "source": [
    "result = connector.execute(query=req_query).fetch_df()"
   ]
  },
  {
   "cell_type": "code",
   "execution_count": null,
   "id": "e12bb662",
   "metadata": {},
   "outputs": [],
   "source": [
    "result.head(10)"
   ]
  },
  {
   "cell_type": "code",
   "execution_count": null,
   "id": "90c7d7c8",
   "metadata": {},
   "outputs": [],
   "source": [
    "req_query_most_app = \"\"\"\n",
    "SELECT \n",
    "  player_name, \n",
    "  COUNT(*) AS TotalAppearances\n",
    "FROM \n",
    "  game_lineups_cleaned\n",
    "WHERE \n",
    "  team_captain = 1\n",
    "  AND position = 'Left-Back'\n",
    "GROUP BY \n",
    "  player_name\n",
    "ORDER BY \n",
    "  TotalAppearances DESC\n",
    "LIMIT 5;\n",
    "\n",
    "\"\"\"\n",
    "\n",
    "result_most_app = connector.execute(req_query_most_app).fetch_df()"
   ]
  },
  {
   "cell_type": "code",
   "execution_count": null,
   "id": "411b3c71",
   "metadata": {},
   "outputs": [],
   "source": [
    "result_most_app"
   ]
  },
  {
   "cell_type": "code",
   "execution_count": null,
   "id": "fd74a628",
   "metadata": {},
   "outputs": [],
   "source": []
  }
 ],
 "metadata": {
  "kernelspec": {
   "display_name": "football_env",
   "language": "python",
   "name": "python3"
  },
  "language_info": {
   "codemirror_mode": {
    "name": "ipython",
    "version": 3
   },
   "file_extension": ".py",
   "mimetype": "text/x-python",
   "name": "python",
   "nbconvert_exporter": "python",
   "pygments_lexer": "ipython3",
   "version": "3.11.11"
  }
 },
 "nbformat": 4,
 "nbformat_minor": 5
}
