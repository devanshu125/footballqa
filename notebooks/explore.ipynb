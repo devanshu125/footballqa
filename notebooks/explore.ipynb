{
 "cells": [
  {
   "cell_type": "code",
   "execution_count": null,
   "id": "0ccbc1c9",
   "metadata": {},
   "outputs": [],
   "source": [
    "import pandas as pd\n",
    "import glob\n",
    "import os"
   ]
  },
  {
   "cell_type": "code",
   "execution_count": null,
   "id": "1066bb4f",
   "metadata": {},
   "outputs": [],
   "source": [
    "# df = pd.read_csv(\"../csv_data_folder/game_lineups.csv\")\n",
    "# print(df.shape)\n",
    "# df.head(20)"
   ]
  },
  {
   "cell_type": "code",
   "execution_count": null,
   "id": "70cfa96b",
   "metadata": {},
   "outputs": [],
   "source": [
    "# check all df shapes\n",
    "all_paths = list(glob.glob(\"../csv_data_folder/*.csv\"))\n",
    "req_dict = {}\n",
    "for req_path in all_paths:\n",
    "    df = pd.read_csv(req_path)\n",
    "    print(f\"{req_path}: {df.shape}\")\n",
    "    req_dict[req_path]  = df.shape[0]\n",
    "    display(df.head())\n",
    "    print(\"\\n\")"
   ]
  },
  {
   "cell_type": "code",
   "execution_count": null,
   "id": "f84c8b09",
   "metadata": {},
   "outputs": [],
   "source": [
    "# get all keys > 200_000\n",
    "to_split_data = {k:v for k, v in req_dict.items() if v > 200_000}\n",
    "to_split_data"
   ]
  },
  {
   "cell_type": "code",
   "execution_count": null,
   "id": "149288b6",
   "metadata": {},
   "outputs": [],
   "source": [
    "def split_csv(input_file, output_dir, chunk_size=100_000):\n",
    "    os.makedirs(output_dir, exist_ok=True)\n",
    "    basename = os.path.splitext(os.path.basename(input_file))[0]\n",
    "\n",
    "    for i, chunk in enumerate(pd.read_csv(input_file, chunksize=chunk_size)):\n",
    "        chunk_file = os.path.join(output_dir, f\"{basename}_part{i+1}.csv\")\n",
    "        chunk.to_csv(chunk_file, index=False)\n",
    "        print(f\"✅ Saved: {chunk_file}\")"
   ]
  },
  {
   "cell_type": "code",
   "execution_count": null,
   "id": "1da54f22",
   "metadata": {},
   "outputs": [],
   "source": [
    "for req_path, req_size in to_split_data.items():\n",
    "    # split the csv\n",
    "    print(f\"Splitting {req_path} with size {req_size}\")\n",
    "    output_dir = os.path.join(\"../csv_data_folder/split\", os.path.basename(req_path.replace(\".csv\", \"\")))\n",
    "    split_csv(req_path, output_dir)"
   ]
  }
 ],
 "metadata": {
  "kernelspec": {
   "display_name": "football_env",
   "language": "python",
   "name": "python3"
  },
  "language_info": {
   "codemirror_mode": {
    "name": "ipython",
    "version": 3
   },
   "file_extension": ".py",
   "mimetype": "text/x-python",
   "name": "python",
   "nbconvert_exporter": "python",
   "pygments_lexer": "ipython3",
   "version": "3.11.11"
  }
 },
 "nbformat": 4,
 "nbformat_minor": 5
}
